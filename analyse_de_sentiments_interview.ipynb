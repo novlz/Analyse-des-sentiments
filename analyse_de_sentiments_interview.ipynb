{
 "cells": [
  {
   "cell_type": "markdown",
   "id": "4636ce5d-e5ef-43c7-b14e-260375d1845c",
   "metadata": {},
   "source": [
    "# Analyse des sentiments d'une interview en français\n",
    "\n",
    "Analyse des sentiments pour déterminer la Polarité et la Subjectivité des réponses.\n",
    "\n",
    "- Une polarité supérieure à 0 est positive\n",
    "- Une polarité inférieure à 0 est négative\n",
    "- Une polarité égale à 0 est neutre\n",
    "\n",
    "Il est tout à fait possible de modifier les intervalles de valeurs de la polarité pour définir un seuil de positivité / négativité. **Nous prenons ici des seuils de 0.1 et -0.1**\n",
    "  \n",
    "L'analyse calcule également la Subjectivité comprise entre 0 et 1. Plus la valeur approche 1 est plus la subjectivité est grande.\n",
    "\n",
    "L'analyse des sentiments est réalisées sur un texte nettoyé\n",
    "\n",
    "Le script utilise le package TextBlob https://textblob.readthedocs.io/en/dev/\n",
    "\n",
    "Le corpus de texte étant en français, la version textblob_fr est nécessaire https://github.com/sloria/textblob-fr\n",
    "\n",
    "**Attention**, la librairie calcul la polarité et subjectivité moyenne à partir de chaque mot. Pour cela textblob fait appel à un dictionnaire de mots dont le score a été attribué à la main. Il s'agit de la librairie **pattern** qui récupère chaque score de mot à partir de **sentiwordnet**\n",
    "\n",
    "La librairie textblob fonctionne correctement dans la plupart du temps, elle peut cependant générer des erreurs dans certains cas."
   ]
  },
  {
   "cell_type": "markdown",
   "id": "113bd063-38d9-48e7-bc2c-4cdeeab45968",
   "metadata": {},
   "source": [
    "# Librairies"
   ]
  },
  {
   "cell_type": "code",
   "execution_count": null,
   "id": "5056f4fe-32f7-455c-b29b-ff13759c6148",
   "metadata": {},
   "outputs": [],
   "source": [
    "# Manipulation de données\n",
    "import pandas as pd\n",
    "import numpy as np\n",
    "\n",
    "# Visualisation \n",
    "import matplotlib.pyplot as plt\n",
    "import plotly.graph_objects as go\n",
    "import plotly.express as px\n",
    "\n",
    "# Traitement du langage naturel (NLP)\n",
    "import nltk\n",
    "from nltk.tokenize import word_tokenize, sent_tokenize\n",
    "from nltk.corpus import stopwords\n",
    "from nltk.stem import WordNetLemmatizer   \n",
    "## Télécharger si besoin\n",
    "#nltk.download('punkt')\n",
    "#nltk.download('stopwords')\n",
    "import string\n",
    "\n",
    "from textblob import TextBlob # Analyse des sentiments\n",
    "from textblob import Blobber\n",
    "from textblob_fr import PatternTagger, PatternAnalyzer"
   ]
  },
  {
   "cell_type": "markdown",
   "id": "c18bd7ef-5702-4832-8bd3-c0e0a8f01fcc",
   "metadata": {},
   "source": [
    "# Dataset\n",
    "\n",
    "Le dataset est composé de quetions et réponses à l'interview. Chaque réponse est découpée en phrase afin d'analyser les sentiments par phrase."
   ]
  },
  {
   "cell_type": "code",
   "execution_count": null,
   "id": "0a507c42-024e-4bf8-8551-33bb69efe823",
   "metadata": {},
   "outputs": [],
   "source": [
    "# Choisir le fichier source\n",
    "data = pd.read_csv('data_sentences.csv', sep =',',\n",
    "                  dtype = {'questions' : str,\n",
    "                           'réponses' : str}\n",
    "                  )\n",
    "data.rename({'réponses' : 'texte'}, axis = 1, inplace = True)"
   ]
  },
  {
   "cell_type": "code",
   "execution_count": null,
   "id": "1314e69a-eb9f-4ebb-acab-4feb31af5517",
   "metadata": {},
   "outputs": [],
   "source": [
    "print(data.info())\n",
    "data.head()"
   ]
  },
  {
   "cell_type": "markdown",
   "id": "ba803c72-bfa2-43d0-a243-2450378723cd",
   "metadata": {},
   "source": [
    "# Data processing \n",
    "\n",
    "Consiste à retraiter le texte de chaque réponse pour conserver les mots contenant de l'information. "
   ]
  },
  {
   "cell_type": "code",
   "execution_count": null,
   "id": "a71fff5a-dd9c-4fb4-bb08-48236fefd9b7",
   "metadata": {},
   "outputs": [],
   "source": [
    "# Tokenizer\n",
    "def tokenizer_fct(sentence) :\n",
    "    # print(sentence)\n",
    "    sentence_clean = sentence.replace('-', ' ').replace('+', ' ').replace('/', ' ').replace('#', ' ')\n",
    "    word_tokens = word_tokenize(sentence_clean, language='french')\n",
    "    return word_tokens\n",
    "\n",
    "# Stop words\n",
    "stop_w = list(set(stopwords.words('french'))) + ['[', ']', ',', '.', ':', '?', '(', ')']\n",
    "\n",
    "def stop_word_filter_fct(list_words) :\n",
    "    filtered_w = [w for w in list_words if not w in stop_w]\n",
    "    filtered_w2 = [w for w in filtered_w if len(w) > 2]\n",
    "    return filtered_w2\n",
    "\n",
    "# Lower case et alpha\n",
    "def lower_start_fct(list_words) :\n",
    "    lw = [w.lower() for w in list_words if (not w.startswith(\"@\")) \n",
    "                                       and (not w.startswith(\"http\"))]\n",
    "    return lw\n",
    "\n",
    "# Lemmatizer (base d'un mot)\n",
    "def lemma_fct(list_words) :\n",
    "    lemmatizer = WordNetLemmatizer()\n",
    "    lem_w = [lemmatizer.lemmatize(w) for w in list_words]\n",
    "    return lem_w\n",
    "\n",
    "# Fonction de préparation du texte sans lemmatization\n",
    "def transform_bow_fct(desc_text) :\n",
    "    word_tokens = tokenizer_fct(desc_text)\n",
    "    sw = stop_word_filter_fct(word_tokens)\n",
    "    lw = lower_start_fct(sw)\n",
    "    # lem_w = lemma_fct(lw)    \n",
    "    transf_desc_text = ' '.join(lw)\n",
    "    return transf_desc_text\n",
    "\n",
    "# Fonction de préparation du texte pour le bag of words avec lemmatization\n",
    "def transform_bow_lem_fct(desc_text) :\n",
    "    word_tokens = tokenizer_fct(desc_text)\n",
    "    sw = stop_word_filter_fct(word_tokens)\n",
    "    lw = lower_start_fct(sw)\n",
    "    lem_w = lemma_fct(lw)    \n",
    "    transf_desc_text = ' '.join(lem_w)\n",
    "    return transf_desc_text"
   ]
  },
  {
   "cell_type": "code",
   "execution_count": null,
   "id": "7b660a6e-0362-4f61-8058-8767dcfc338a",
   "metadata": {},
   "outputs": [],
   "source": [
    "data['cleaned_texte'] = data['texte'].apply(lambda x : transform_bow_lem_fct(x)).copy()\n",
    "data"
   ]
  },
  {
   "cell_type": "markdown",
   "id": "7f5a100f-8a67-4af0-a435-42a89b2805b9",
   "metadata": {},
   "source": [
    "# Analyse des sentiments\n",
    "\n",
    "Cette partie utilise textblob-fr pour l'analyse des sentiments à partir du texte nettoyé.\n",
    "\n",
    "Le sript génnère les colonnes polarity, subjectivité et Sentiment"
   ]
  },
  {
   "cell_type": "markdown",
   "id": "7e82a37d-5ebf-43ad-8c9c-fb6f2bd26fb0",
   "metadata": {},
   "source": [
    "## Sentiment Analyzer"
   ]
  },
  {
   "cell_type": "code",
   "execution_count": null,
   "id": "dcb943ca-326b-4fdb-874e-cc9d69d00e4e",
   "metadata": {},
   "outputs": [],
   "source": [
    "# Utilisation de la classe Blobber\n",
    "tb = Blobber(pos_tagger=PatternTagger(), analyzer=PatternAnalyzer())"
   ]
  },
  {
   "cell_type": "code",
   "execution_count": null,
   "id": "36f69a93-b743-43af-8424-9c0d9df89f9a",
   "metadata": {},
   "outputs": [],
   "source": [
    "# Calcule de la polarité et subjectivité\n",
    "data['polarity'] = data['cleaned_texte'].apply(lambda x: tb(x).sentiment[0])\n",
    "data['subjectivity'] = data['cleaned_texte'].apply(lambda x: tb(x).sentiment[1])\n",
    "# Définir les étiquettes de sentiment en fonction de la polarité\n",
    "data['Sentiment'] = data['polarity'].apply(lambda x: 'Positif' if x > 0.1 else ('Negatif' if x < -0.1 else 'Neutre'))\n",
    "\n",
    "# Corrige la subjectivité lorsqu'elle sort de l'intervalle 0 - 1 (erreur de la librairie)\n",
    "data.loc[data['subjectivity'] < 0, 'subjectivity'] = 0\n",
    "data.loc[data['subjectivity'] > 1, 'subjectivity'] = 1"
   ]
  },
  {
   "cell_type": "code",
   "execution_count": null,
   "id": "225d0f43-2b93-44aa-b383-77ac407d8cd2",
   "metadata": {
    "scrolled": true
   },
   "outputs": [],
   "source": [
    "data.head(15)"
   ]
  },
  {
   "cell_type": "markdown",
   "id": "acf541d4-bd97-4fbe-84fa-ffa2469f5c1f",
   "metadata": {},
   "source": [
    "## Analyse globale"
   ]
  },
  {
   "cell_type": "code",
   "execution_count": null,
   "id": "54e1702f-1cba-4128-8583-f107fc2da153",
   "metadata": {},
   "outputs": [],
   "source": [
    "# Affiche les percentiles\n",
    "data.describe(percentiles=[.1, .2, .3, .4, .5,\n",
    "                          .6, .7, .8, .9])"
   ]
  },
  {
   "cell_type": "code",
   "execution_count": null,
   "id": "e407b178-2220-4614-b43d-c07760968508",
   "metadata": {},
   "outputs": [],
   "source": [
    "# Phrases les plus polarisantes\n",
    "polarisation = data.sort_values(by='polarity', ascending = False)"
   ]
  },
  {
   "cell_type": "code",
   "execution_count": null,
   "id": "58e3939f-5045-4789-89a7-ff3e108f5fd3",
   "metadata": {},
   "outputs": [],
   "source": [
    "top_positif = polarisation.head(3)\n",
    "top_positif"
   ]
  },
  {
   "cell_type": "code",
   "execution_count": null,
   "id": "e8841726-e9f6-4e25-b225-3f6d41975d67",
   "metadata": {},
   "outputs": [],
   "source": [
    "top_negatif = polarisation.tail(3).sort_values(by='polarity', ascending = True)\n",
    "top_negatif"
   ]
  },
  {
   "cell_type": "code",
   "execution_count": null,
   "id": "252073bf-f8c2-4dd2-9f82-249b35a266d0",
   "metadata": {},
   "outputs": [],
   "source": [
    "# Compter le nombre de chaque sentiment (Positif, Negatif, Neutre) pour faire un diagramme\n",
    "sentiment_counts = data['Sentiment'].value_counts()\n",
    "\n",
    "# Récupère les labels\n",
    "labels = sentiment_counts.index.tolist()\n",
    "values = sentiment_counts.values.tolist()\n",
    "\n",
    "colors = ['#ff9999','#66b3ff','#99ff99','#ffcc99']\n",
    "\n",
    "# Trace le diagramme circulaire\n",
    "plt.pie(values, labels=labels,\n",
    "        colors = colors, autopct='%1.1f%%')\n",
    "plt.title(\"Répartition des sentiments\")\n",
    "plt.show()"
   ]
  },
  {
   "cell_type": "code",
   "execution_count": null,
   "id": "5cfa09a1-794c-4f47-9add-600207e4a3eb",
   "metadata": {},
   "outputs": [],
   "source": [
    "# Boxplot pour visualiser les valeurs atypiques\n",
    "data[['polarity', 'subjectivity']].plot(kind='box', vert=False)\n",
    "plt.title('Boxplot de la polarité et de la subjectivité')\n",
    "plt.xlabel('Valeur')\n",
    "plt.ylabel('Variables')\n",
    "\n",
    "\n",
    "plt.show()"
   ]
  },
  {
   "cell_type": "code",
   "execution_count": null,
   "id": "60b4171a-d3f5-48b2-a8fc-67eb5395b8c7",
   "metadata": {},
   "outputs": [],
   "source": [
    "# Scatter plot\n",
    "fig = px.scatter(data,x='polarity',y='subjectivity')\n",
    "fig.show()"
   ]
  },
  {
   "cell_type": "markdown",
   "id": "b1b3128f-5456-48b5-9eaf-6541080ef0a2",
   "metadata": {},
   "source": [
    "## Analyse par question"
   ]
  },
  {
   "cell_type": "code",
   "execution_count": null,
   "id": "194dbc1f-d843-43d8-bf2e-1a16d0840960",
   "metadata": {},
   "outputs": [],
   "source": [
    "# Regroupe les sentiments par questions\n",
    "df_agg = data.groupby(['questions', 'Sentiment']).size().unstack(fill_value=0)\n",
    "df_agg.reset_index(inplace=True)\n",
    "df_agg"
   ]
  },
  {
   "cell_type": "code",
   "execution_count": null,
   "id": "4ad9a87d-5d63-4652-84e5-ea151587c2bc",
   "metadata": {},
   "outputs": [],
   "source": [
    "# Agrégation avec des statistiques supplémentaires\n",
    "data_by_questions = data.groupby('questions').agg({\n",
    "    'polarity': ['min', 'max', 'mean', 'median'],\n",
    "    'subjectivity': ['min', 'max', 'mean', 'median']  \n",
    "})\n",
    "\n",
    "# Renomme les colonnes\n",
    "data_by_questions.columns = ['min_polarity', 'max_polarity', 'mean_polarity', 'median_polarity',\n",
    "                              'min_subjectivity', 'max_subjectivity', 'mean_subjectivity', 'median_subjectivity']\n",
    "\n",
    "data_by_questions = data_by_questions.reset_index()\n",
    "data_by_questions.head(15)"
   ]
  },
  {
   "cell_type": "code",
   "execution_count": null,
   "id": "dd39ebf3-a25e-4456-8dce-12b24508993c",
   "metadata": {},
   "outputs": [],
   "source": [
    "# Agrégation par question pour traiter chaque question individuellement\n",
    "questions = data['questions'].unique()\n",
    "\n",
    "for question in questions:\n",
    "    # Sélectionne les phrases et sentiments pour chaque question\n",
    "    subset = data[data['questions'] == question]\n",
    "    \n",
    "    # Compte le nombre de sentiments pour la question\n",
    "    sentiment_counts = subset['Sentiment'].value_counts()\n",
    "    \n",
    "    # Labels\n",
    "    labels = sentiment_counts.index.tolist()\n",
    "    values = sentiment_counts.values.tolist()\n",
    "    \n",
    "    colors = ['#ff9999', '#66b3ff', '#99ff99', '#ffcc99']\n",
    "    \n",
    "    # Trace le diagramme circulaire de la question\n",
    "    plt.figure()  \n",
    "    plt.pie(values, labels=labels, colors=colors, autopct=lambda pct: f\"{pct:.1f}%\\n({int(pct/100*sum(values))})\")\n",
    "    \n",
    "    # Titre avec la question\n",
    "    plt.title(f\"Répartition des sentiments - {question}\")\n",
    "    \n",
    "    plt.show()\n"
   ]
  },
  {
   "cell_type": "code",
   "execution_count": null,
   "id": "88679275-6906-4fe5-82bf-d56fff131d06",
   "metadata": {},
   "outputs": [],
   "source": [
    "# Agrégation par question pour traiter chaque question individuellement\n",
    "questions = data['questions'].unique()\n",
    "\n",
    "for question in questions:\n",
    "    # # Sélectionne les phrases et sentiments pour chaque question\n",
    "    subset = data[data['questions'] == question]\n",
    "    \n",
    "    # Tracer le boxplot pour la polarité et la subjectivité pour cette question\n",
    "    plt.figure()  \n",
    "    subset[['polarity', 'subjectivity']].plot(kind='box', vert=False)\n",
    "    \n",
    "    # Titre des boxplot avec la question\n",
    "    plt.title(f'Boxplot de la polarité et de la subjectivité - {question}')\n",
    "    plt.xlabel('Valeur')\n",
    "    plt.ylabel('Variables')\n",
    "\n",
    "    plt.show()"
   ]
  },
  {
   "cell_type": "code",
   "execution_count": null,
   "id": "59a91737-adce-4d0b-afd4-c4b43c0b5915",
   "metadata": {},
   "outputs": [],
   "source": [
    "# Agrégation par question pour regrouper les phrases par question\n",
    "data_by_questions_graphe = data.groupby('questions').agg(list).reset_index()\n",
    "\n",
    "# Création des scatter plots par question\n",
    "for index, row in data_by_questions_graphe.iterrows():\n",
    "    question = row['questions']\n",
    "    texts = row['cleaned_texte']\n",
    "    polarities = row['polarity']\n",
    "    subjectivities = row['subjectivity']\n",
    "    \n",
    "    # Création du DataFrame pour le scatter plot\n",
    "    scatter_df = pd.DataFrame({\n",
    "        'cleaned_texte': texts,\n",
    "        'polarity': polarities,\n",
    "        'subjectivity': subjectivities\n",
    "    })\n",
    "    \n",
    "    # Création du scatter plot avec Plotly Express\n",
    "    fig = px.scatter(scatter_df, x='polarity', y='subjectivity',\n",
    "                     labels={'polarity': 'Polarity', 'subjectivity': 'Subjectivity'},\n",
    "                     title=f'Scatter Plot for Question: {question}')\n",
    "    \n",
    "    fig.show()"
   ]
  }
 ],
 "metadata": {
  "kernelspec": {
   "display_name": "Python 3 (ipykernel)",
   "language": "python",
   "name": "python3"
  },
  "language_info": {
   "codemirror_mode": {
    "name": "ipython",
    "version": 3
   },
   "file_extension": ".py",
   "mimetype": "text/x-python",
   "name": "python",
   "nbconvert_exporter": "python",
   "pygments_lexer": "ipython3",
   "version": "3.9.19"
  }
 },
 "nbformat": 4,
 "nbformat_minor": 5
}
